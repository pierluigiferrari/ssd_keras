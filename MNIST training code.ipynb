{
 "cells": [
  {
   "cell_type": "code",
   "execution_count": 1,
   "metadata": {},
   "outputs": [],
   "source": [
    "import tensorflow as tf\n",
    "tf.enable_eager_execution()"
   ]
  },
  {
   "cell_type": "code",
   "execution_count": 2,
   "metadata": {},
   "outputs": [],
   "source": [
    "mnist = tf.keras.datasets.mnist\n",
    "\n",
    "(x_train, y_train), (x_test, y_test) = mnist.load_data()\n",
    "x_train, x_test = x_train / 255.0, x_test / 255.0"
   ]
  },
  {
   "cell_type": "code",
   "execution_count": 3,
   "metadata": {},
   "outputs": [],
   "source": [
    "model = tf.keras.models.Sequential([\n",
    "  tf.keras.layers.Flatten(input_shape=(28, 28)),\n",
    "  tf.keras.layers.Dense(128, activation='relu'),\n",
    "  tf.keras.layers.Dropout(0.2),\n",
    "  tf.keras.layers.Dense(10)\n",
    "])"
   ]
  },
  {
   "cell_type": "code",
   "execution_count": 4,
   "metadata": {},
   "outputs": [
    {
     "data": {
      "text/plain": [
       "array([[-0.7659863 ,  0.32399613,  0.23091407, -0.57193303,  0.3275209 ,\n",
       "        -0.07832032, -0.65125936,  0.0727461 , -0.6488642 , -0.23280063]],\n",
       "      dtype=float32)"
      ]
     },
     "execution_count": 4,
     "metadata": {},
     "output_type": "execute_result"
    }
   ],
   "source": [
    "predictions = model(x_train[:1]).numpy()\n",
    "predictions"
   ]
  },
  {
   "cell_type": "code",
   "execution_count": 5,
   "metadata": {},
   "outputs": [
    {
     "data": {
      "text/plain": [
       "array([[0.05225847, 0.15542829, 0.14161363, 0.06345019, 0.15597712,\n",
       "        0.10394563, 0.05861139, 0.12089645, 0.05875194, 0.08906689]],\n",
       "      dtype=float32)"
      ]
     },
     "execution_count": 5,
     "metadata": {},
     "output_type": "execute_result"
    }
   ],
   "source": [
    "tf.nn.softmax(predictions).numpy()"
   ]
  },
  {
   "cell_type": "code",
   "execution_count": 6,
   "metadata": {},
   "outputs": [],
   "source": [
    "loss_fn = tf.keras.losses.SparseCategoricalCrossentropy(from_logits=True)"
   ]
  },
  {
   "cell_type": "code",
   "execution_count": 7,
   "metadata": {},
   "outputs": [
    {
     "data": {
      "text/plain": [
       "2.2638874"
      ]
     },
     "execution_count": 7,
     "metadata": {},
     "output_type": "execute_result"
    }
   ],
   "source": [
    "loss_fn(y_train[:1], predictions).numpy()"
   ]
  },
  {
   "cell_type": "code",
   "execution_count": 8,
   "metadata": {},
   "outputs": [],
   "source": [
    "model.compile(optimizer='adam',\n",
    "              loss=loss_fn,\n",
    "              metrics=['accuracy'])"
   ]
  },
  {
   "cell_type": "code",
   "execution_count": 9,
   "metadata": {},
   "outputs": [
    {
     "name": "stdout",
     "output_type": "stream",
     "text": [
      "Train on 60000 samples\n",
      "Epoch 1/25\n",
      "60000/60000 [==============================] - 6s 102us/sample - loss: 0.2943 - acc: 0.9164\n",
      "Epoch 2/25\n",
      "60000/60000 [==============================] - 3s 49us/sample - loss: 0.1440 - acc: 0.9570\n",
      "Epoch 3/25\n",
      "60000/60000 [==============================] - 3s 50us/sample - loss: 0.1067 - acc: 0.9680\n",
      "Epoch 4/25\n",
      "60000/60000 [==============================] - 3s 49us/sample - loss: 0.0880 - acc: 0.9732\n",
      "Epoch 5/25\n",
      "60000/60000 [==============================] - 3s 50us/sample - loss: 0.0757 - acc: 0.9764\n",
      "Epoch 6/25\n",
      "60000/60000 [==============================] - 3s 50us/sample - loss: 0.0654 - acc: 0.9793\n",
      "Epoch 7/25\n",
      "60000/60000 [==============================] - 3s 50us/sample - loss: 0.0579 - acc: 0.9810\n",
      "Epoch 8/25\n",
      "60000/60000 [==============================] - 3s 49us/sample - loss: 0.0528 - acc: 0.9826\n",
      "Epoch 9/25\n",
      "60000/60000 [==============================] - 3s 49us/sample - loss: 0.0471 - acc: 0.9851\n",
      "Epoch 10/25\n",
      "60000/60000 [==============================] - 3s 49us/sample - loss: 0.0429 - acc: 0.9858\n",
      "Epoch 11/25\n",
      "60000/60000 [==============================] - 3s 52us/sample - loss: 0.0398 - acc: 0.9866\n",
      "Epoch 12/25\n",
      "60000/60000 [==============================] - 3s 49us/sample - loss: 0.0379 - acc: 0.9878\n",
      "Epoch 13/25\n",
      "60000/60000 [==============================] - 3s 49us/sample - loss: 0.0356 - acc: 0.9882\n",
      "Epoch 14/25\n",
      "60000/60000 [==============================] - 3s 49us/sample - loss: 0.0348 - acc: 0.9885\n",
      "Epoch 15/25\n",
      "60000/60000 [==============================] - 3s 50us/sample - loss: 0.0321 - acc: 0.9887\n",
      "Epoch 16/25\n",
      "60000/60000 [==============================] - 3s 50us/sample - loss: 0.0284 - acc: 0.9903\n",
      "Epoch 17/25\n",
      "60000/60000 [==============================] - 3s 50us/sample - loss: 0.0289 - acc: 0.9901\n",
      "Epoch 18/25\n",
      "60000/60000 [==============================] - 3s 48us/sample - loss: 0.0277 - acc: 0.9909\n",
      "Epoch 19/25\n",
      "60000/60000 [==============================] - 3s 49us/sample - loss: 0.0261 - acc: 0.9910\n",
      "Epoch 20/25\n",
      "60000/60000 [==============================] - 3s 49us/sample - loss: 0.0265 - acc: 0.9907\n",
      "Epoch 21/25\n",
      "60000/60000 [==============================] - 3s 49us/sample - loss: 0.0251 - acc: 0.9916\n",
      "Epoch 22/25\n",
      "60000/60000 [==============================] - 3s 53us/sample - loss: 0.0232 - acc: 0.9924\n",
      "Epoch 23/25\n",
      "60000/60000 [==============================] - 3s 50us/sample - loss: 0.0230 - acc: 0.9921\n",
      "Epoch 24/25\n",
      "60000/60000 [==============================] - 3s 51us/sample - loss: 0.0242 - acc: 0.9914\n",
      "Epoch 25/25\n",
      "60000/60000 [==============================] - 3s 52us/sample - loss: 0.0226 - acc: 0.9919\n"
     ]
    },
    {
     "data": {
      "text/plain": [
       "<tensorflow.python.keras.callbacks.History at 0x7f900006e2b0>"
      ]
     },
     "execution_count": 9,
     "metadata": {},
     "output_type": "execute_result"
    }
   ],
   "source": [
    "model.fit(x_train, y_train, epochs=25)"
   ]
  }
 ],
 "metadata": {
  "kernelspec": {
   "display_name": "Python 3",
   "language": "python",
   "name": "python3"
  },
  "language_info": {
   "codemirror_mode": {
    "name": "ipython",
    "version": 3
   },
   "file_extension": ".py",
   "mimetype": "text/x-python",
   "name": "python",
   "nbconvert_exporter": "python",
   "pygments_lexer": "ipython3",
   "version": "3.6.12"
  }
 },
 "nbformat": 4,
 "nbformat_minor": 4
}
